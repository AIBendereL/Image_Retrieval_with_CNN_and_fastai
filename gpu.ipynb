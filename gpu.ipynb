{
 "cells": [
  {
   "cell_type": "code",
   "execution_count": null,
   "id": "59582565-2f41-4a0f-86f1-db3fd3830002",
   "metadata": {},
   "outputs": [],
   "source": [
    "#|default_exp gpu"
   ]
  },
  {
   "cell_type": "code",
   "execution_count": null,
   "id": "d7943409-8fde-4d25-8252-bfed0f2e6209",
   "metadata": {},
   "outputs": [],
   "source": [
    "#|export\n",
    "\n",
    "import torch\n",
    "import gc"
   ]
  },
  {
   "cell_type": "code",
   "execution_count": null,
   "id": "88593dbe-65be-4f8d-a083-5242b8736c38",
   "metadata": {},
   "outputs": [],
   "source": [
    "__all__ = [\"manage_gpu\"]"
   ]
  },
  {
   "cell_type": "markdown",
   "id": "f5cb8618-ccc3-46ed-8845-9668f31c8ae4",
   "metadata": {},
   "source": [
    "# Module"
   ]
  },
  {
   "cell_type": "code",
   "execution_count": null,
   "id": "846f10ed-2c0f-45f9-9025-12d1b599f1e1",
   "metadata": {},
   "outputs": [],
   "source": [
    "#|export\n",
    "\n",
    "def manage_gpu(verbal= True):\n",
    "\n",
    "    mmr_reserved = torch.cuda.memory_reserved() / (1024*1024)\n",
    "    mmr_max = torch.cuda.max_memory_reserved() / (1024*1024)\n",
    "    pct_reserved = mmr_reserved / mmr_max * 100\n",
    "\n",
    "    if verbal: print(f\"Memory Reserved | {mmr_reserved:.0f} | {mmr_max:.0f} | {pct_reserved:.0f}%\")\n",
    "\n",
    "    gc.collect()\n",
    "    torch.cuda.empty_cache()"
   ]
  },
  {
   "cell_type": "markdown",
   "id": "16e0f560-ddcf-40bc-9d32-d2a9f638bdfa",
   "metadata": {},
   "source": [
    "# Export"
   ]
  },
  {
   "cell_type": "code",
   "execution_count": null,
   "id": "790814a2-d14a-4540-a2b4-c72a26e2bf1e",
   "metadata": {},
   "outputs": [],
   "source": [
    "# from nbdev.export import nb_export\n",
    "\n",
    "# nb_export(\"gpu.ipynb\", \"utils_f/\")"
   ]
  }
 ],
 "metadata": {
  "kernelspec": {
   "display_name": "venv_cvsion",
   "language": "python",
   "name": "venv_cvsion"
  },
  "language_info": {
   "codemirror_mode": {
    "name": "ipython",
    "version": 3
   },
   "file_extension": ".py",
   "mimetype": "text/x-python",
   "name": "python",
   "nbconvert_exporter": "python",
   "pygments_lexer": "ipython3",
   "version": "3.9.1"
  }
 },
 "nbformat": 4,
 "nbformat_minor": 5
}
