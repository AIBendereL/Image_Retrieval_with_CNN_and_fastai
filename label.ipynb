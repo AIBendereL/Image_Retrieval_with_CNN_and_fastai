{
 "cells": [
  {
   "cell_type": "code",
   "execution_count": null,
   "id": "f73ca51e",
   "metadata": {},
   "outputs": [],
   "source": [
    "#|default_exp label"
   ]
  },
  {
   "cell_type": "code",
   "execution_count": null,
   "id": "d025c187",
   "metadata": {},
   "outputs": [],
   "source": [
    "#|export\n",
    "\n",
    "import os\n",
    "from pathlib import Path\n",
    "\n",
    "from fastai.vision.data import parent_label"
   ]
  },
  {
   "cell_type": "markdown",
   "id": "3a44ba7f",
   "metadata": {},
   "source": [
    "# All"
   ]
  },
  {
   "cell_type": "code",
   "execution_count": null,
   "id": "701f380d",
   "metadata": {},
   "outputs": [],
   "source": [
    "__all__ = [\"get_verbal_label\", \"get_label_cub2002011\", \"get_label_flowers\"]"
   ]
  },
  {
   "cell_type": "markdown",
   "id": "669e82c6",
   "metadata": {},
   "source": [
    "# Module"
   ]
  },
  {
   "cell_type": "code",
   "execution_count": null,
   "id": "2a8fe6d0",
   "metadata": {},
   "outputs": [],
   "source": [
    "#|export\n",
    "\n",
    "def return_annotation_map():\n",
    "    \n",
    "    anno_path = Path(\"D:\\AI_Bender\\CVsion\\IRetrieval_cnn\\Data\\ImageNet\\LOC_synset_mapping.txt\")\n",
    "    \n",
    "    with open(anno_path, \"r\") as anno_file:\n",
    "        strs = anno_file.readlines()\n",
    "        \n",
    "    lbl_name_map = {}\n",
    "    for string in strs:\n",
    "        str_split = string.split()\n",
    "        \n",
    "        lbl = str_split[0]\n",
    "        name = \" \".join(str_split[1:]).split(\",\")[0]\n",
    "        lbl_name_map[lbl] = name\n",
    "        \n",
    "    return lbl_name_map\n",
    "    \n",
    "# With this way of splitting name, there are some repeated names in the original ImageNet dataset.\n",
    "# Fortunately, there are none in this ImageNet extracted dataset.\n",
    "\n",
    "\n",
    "def get_label_cub2002011(img_path):\n",
    "\n",
    "    return parent_label(img_path).split(\".\")[1]"
   ]
  },
  {
   "cell_type": "markdown",
   "id": "1a5d6d68",
   "metadata": {},
   "source": [
    "# Export"
   ]
  },
  {
   "cell_type": "code",
   "execution_count": 1,
   "id": "c873a11a",
   "metadata": {},
   "outputs": [],
   "source": [
    "# from nbdev.export import nb_export\n",
    "\n",
    "# nb_export(\"label.ipynb\", \"utils_f/\")"
   ]
  }
 ],
 "metadata": {
  "kernelspec": {
   "display_name": "venv_cvsion",
   "language": "python",
   "name": "venv_cvsion"
  },
  "language_info": {
   "codemirror_mode": {
    "name": "ipython",
    "version": 3
   },
   "file_extension": ".py",
   "mimetype": "text/x-python",
   "name": "python",
   "nbconvert_exporter": "python",
   "pygments_lexer": "ipython3",
   "version": "3.9.1"
  }
 },
 "nbformat": 4,
 "nbformat_minor": 5
}
