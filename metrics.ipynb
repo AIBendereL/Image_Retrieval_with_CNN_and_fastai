{
 "cells": [
  {
   "cell_type": "code",
   "execution_count": 1,
   "id": "90096b6c-e7cb-4910-883c-39cf53d98241",
   "metadata": {},
   "outputs": [],
   "source": [
    "#|default_exp metrics"
   ]
  },
  {
   "cell_type": "code",
   "execution_count": 2,
   "id": "cb518b84-4970-4db5-8d14-50e78e7f60a4",
   "metadata": {},
   "outputs": [],
   "source": [
    "#|export\n",
    "\n",
    "import torch"
   ]
  },
  {
   "cell_type": "markdown",
   "id": "b1637699-c4f9-469e-9f2e-469a2c7b3428",
   "metadata": {},
   "source": [
    "# All "
   ]
  },
  {
   "cell_type": "code",
   "execution_count": 4,
   "id": "0926cebe-abff-4246-8c70-5dd02dff87e8",
   "metadata": {},
   "outputs": [],
   "source": [
    "__all__ = [\"get_all_r_precision\"]"
   ]
  },
  {
   "cell_type": "markdown",
   "id": "a3445294-759a-4a58-8aeb-60cc46b23ae5",
   "metadata": {},
   "source": [
    "# Module"
   ]
  },
  {
   "cell_type": "code",
   "execution_count": 5,
   "id": "b1f4d64a-97ed-4556-9904-aaa535e6cfe4",
   "metadata": {},
   "outputs": [],
   "source": [
    "#|export\n",
    "\n",
    "def calculate_r_precision(top_r, lbls_data, lbls_trgt):\n",
    "\n",
    "    r = top_r.shape[1]\n",
    "    num_trgt = len(top_r)\n",
    "    \n",
    "    lbls = [ [lbls_trgt[i], lbls_data[idxs]] for i, idxs in enumerate(top_r)]\n",
    "    \n",
    "    corrects = [(lbl_t == lbls_d).sum().item() for lbl_t, lbls_d in lbls]\n",
    "    return sum(corrects) / (r * num_trgt)\n",
    "\n",
    "\n",
    "def get_r_precision(r, idxs_li, lbls_data_li, lbls_trgt_li):\n",
    "\n",
    "    top_r_li = [idxs[:, :r] for idxs in idxs_li]\n",
    "\n",
    "    return [calculate_r_precision(top_r, lbls_data, lbls_trgt)\n",
    "            for top_r, lbls_data, lbls_trgt in zip(top_r_li, lbls_data_li, lbls_trgt_li)]\n",
    "\n",
    "\n",
    "def get_all_r_precision(r_li, idxs_li, lbls_data_li, lbls_trgt_li, transpose= True):\n",
    "\n",
    "    r_precision_li = torch.tensor([get_r_precision(r, idxs_li, lbls_data_li, lbls_trgt_li) for r in r_li])\n",
    "    \n",
    "    if transpose: r_precision_li = r_precision_li.T  \n",
    "    return r_precision_li"
   ]
  },
  {
   "cell_type": "markdown",
   "id": "9ceadd76-a1f1-4786-b96e-55961b6618d9",
   "metadata": {},
   "source": [
    "# Export"
   ]
  },
  {
   "cell_type": "code",
   "execution_count": 13,
   "id": "5257f56a-8f9a-4420-95cc-ec5c05169856",
   "metadata": {},
   "outputs": [],
   "source": [
    "# from nbdev.export import nb_export\n",
    "\n",
    "# nb_export(\"metrics.ipynb\", \"utils_f/\")"
   ]
  }
 ],
 "metadata": {
  "kernelspec": {
   "display_name": "venv_cvsion",
   "language": "python",
   "name": "venv_cvsion"
  },
  "language_info": {
   "codemirror_mode": {
    "name": "ipython",
    "version": 3
   },
   "file_extension": ".py",
   "mimetype": "text/x-python",
   "name": "python",
   "nbconvert_exporter": "python",
   "pygments_lexer": "ipython3",
   "version": "3.9.1"
  }
 },
 "nbformat": 4,
 "nbformat_minor": 5
}
