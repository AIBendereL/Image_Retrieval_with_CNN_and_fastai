{
 "cells": [
  {
   "cell_type": "code",
   "execution_count": 1,
   "id": "90096b6c-e7cb-4910-883c-39cf53d98241",
   "metadata": {},
   "outputs": [],
   "source": [
    "#|default_exp metrics"
   ]
  },
  {
   "cell_type": "code",
   "execution_count": 2,
   "id": "cb518b84-4970-4db5-8d14-50e78e7f60a4",
   "metadata": {},
   "outputs": [],
   "source": [
    "#|export\n",
    "\n",
    "import torch"
   ]
  },
  {
   "cell_type": "markdown",
   "id": "b1637699-c4f9-469e-9f2e-469a2c7b3428",
   "metadata": {},
   "source": [
    "# All "
   ]
  },
  {
   "cell_type": "code",
   "execution_count": 4,
   "id": "0926cebe-abff-4246-8c70-5dd02dff87e8",
   "metadata": {},
   "outputs": [],
   "source": [
    "__all__ = [\"get_all_precision_at_k\"]"
   ]
  },
  {
   "cell_type": "markdown",
   "id": "a3445294-759a-4a58-8aeb-60cc46b23ae5",
   "metadata": {},
   "source": [
    "# Module"
   ]
  },
  {
   "cell_type": "code",
   "execution_count": 5,
   "id": "b1f4d64a-97ed-4556-9904-aaa535e6cfe4",
   "metadata": {},
   "outputs": [],
   "source": [
    "#|export\n",
    "\n",
    "def calculate_precision_at_k(top_k, lbls_data, lbls_trgt):\n",
    "\n",
    "    k = top_k.shape[1]\n",
    "    num_trgt = len(top_k)\n",
    "    \n",
    "    lbls = [ [lbls_trgt[i], lbls_data[idxs]] for i, idxs in enumerate(top_k)]\n",
    "    \n",
    "    corrects = [(lbl_t == lbls_d).sum().item() for lbl_t, lbls_d in lbls]\n",
    "    return sum(corrects) / (k * num_trgt)\n",
    "\n",
    "def get_precision_at_k(k, idxs_li, lbls_data_li, lbls_trgt_li):\n",
    "\n",
    "    top_k_li = [idxs[:, :k] for idxs in idxs_li]\n",
    "\n",
    "    return [calculate_precision_at_k(top_k, lbls_data, lbls_trgt)\n",
    "            for top_k, lbls_data, lbls_trgt in zip(top_k_li, lbls_data_li, lbls_trgt_li)]\n",
    "\n",
    "def get_all_precision_at_k(k_li, idxs_li, lbls_data_li, lbls_trgt_li, transpose= True):\n",
    "\n",
    "    precision_at_k_li = torch.tensor([get_precision_at_k(k, idxs_li, lbls_data_li, lbls_trgt_li) for k in k_li])\n",
    "    \n",
    "    if transpose: precision_at_k_li = precision_at_k_li.T  \n",
    "    return precision_at_k_li"
   ]
  },
  {
   "cell_type": "markdown",
   "id": "9ceadd76-a1f1-4786-b96e-55961b6618d9",
   "metadata": {},
   "source": [
    "# Export"
   ]
  },
  {
   "cell_type": "code",
   "execution_count": 3,
   "id": "5257f56a-8f9a-4420-95cc-ec5c05169856",
   "metadata": {},
   "outputs": [],
   "source": [
    "# from nbdev.export import nb_export\n",
    "\n",
    "# nb_export(\"metrics.ipynb\", \"utils_f/\")"
   ]
  }
 ],
 "metadata": {
  "kernelspec": {
   "display_name": "venv_cvsion",
   "language": "python",
   "name": "venv_cvsion"
  },
  "language_info": {
   "codemirror_mode": {
    "name": "ipython",
    "version": 3
   },
   "file_extension": ".py",
   "mimetype": "text/x-python",
   "name": "python",
   "nbconvert_exporter": "python",
   "pygments_lexer": "ipython3",
   "version": "3.9.1"
  }
 },
 "nbformat": 4,
 "nbformat_minor": 5
}
