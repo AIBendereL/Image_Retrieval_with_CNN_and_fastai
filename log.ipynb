{
 "cells": [
  {
   "cell_type": "code",
   "execution_count": 9,
   "id": "4b24030b-a5ce-458c-88ed-5c6037862a02",
   "metadata": {},
   "outputs": [],
   "source": [
    "#|default_exp log"
   ]
  },
  {
   "cell_type": "code",
   "execution_count": 10,
   "id": "e787cee9-c0b5-4107-bda4-006433d220c8",
   "metadata": {},
   "outputs": [],
   "source": [
    "#|export\n",
    "\n",
    "from pathlib import Path\n",
    "\n",
    "import pandas as pd\n",
    "import torch"
   ]
  },
  {
   "cell_type": "code",
   "execution_count": 11,
   "id": "9b6f2347-873a-4acc-8a8a-6f52ff3a9774",
   "metadata": {},
   "outputs": [],
   "source": [
    "__all__ = [\"log_excel\"]"
   ]
  },
  {
   "cell_type": "markdown",
   "id": "d0aa3fc1-04be-4025-9f05-6791da4cf086",
   "metadata": {},
   "source": [
    "# Module"
   ]
  },
  {
   "cell_type": "code",
   "execution_count": 22,
   "id": "c3416d2c-333f-4987-a2ca-b3d9b25d6720",
   "metadata": {},
   "outputs": [],
   "source": [
    "#|export\n",
    "\n",
    "def log_excel(dts_li, model_li, precision_at_k_li, k_li):\n",
    "\n",
    "    name = [ [dts.name, model.name] for dts in dts_li for model in model_li]\n",
    "    df_name = pd.DataFrame(name, columns= [\"dts\", \"mdl\"])\n",
    "\n",
    "    precision_at_k_li = torch.round(precision_at_k_li, decimals= 4)\n",
    "    df_precision_at_k = pd.DataFrame(precision_at_k_li, columns= k_li)\n",
    "    \n",
    "    output = pd.concat([df_name, df_precision_at_k], axis= 1)\n",
    "\n",
    "    log_folder = Path(\"log/\")\n",
    "    log_name = \"log.xlsx\"\n",
    "    log_path = log_folder/log_name\n",
    "    output.to_excel(log_path)\n",
    "\n",
    "    return output\n",
    "\n",
    "\n",
    "# non-original\n",
    "def precision_at_k_to_dataframe(dts, model, precision_at_k, k_li, idx= 0):\n",
    "\n",
    "    name = [ [dts.name, model.name]]\n",
    "    df_name = pd.DataFrame(name, columns= [\"dts\", \"model\"], index= [idx])\n",
    "\n",
    "    precision_at_k = torch.round(precision_at_k, decimals= 4).unsqueeze(0)\n",
    "    df_precision_at_k = pd.DataFrame(precision_at_k, columns= k_li, index= [idx])\n",
    "\n",
    "    return pd.concat([df_name, df_precision_at_k], axis= 1)\n",
    "\n",
    "# non-original\n",
    "def dataframes_to_excel(df_li):\n",
    "\n",
    "    output = pd.concat(df_li, axis= 0)\n",
    "\n",
    "    log_folder = Path(\"log/\")\n",
    "    log_name = \"dataframes_to_excel.xlsx\"\n",
    "    log_path = log_folder/log_name\n",
    "    output.to_excel(log_path)\n",
    "\n",
    "    return output"
   ]
  },
  {
   "cell_type": "markdown",
   "id": "c4e4c985-f77f-4790-9dae-1fbf8dc8eadd",
   "metadata": {},
   "source": [
    "# Export"
   ]
  },
  {
   "cell_type": "code",
   "execution_count": 6,
   "id": "c0aae29d-948a-4004-a204-eebd22b2f375",
   "metadata": {},
   "outputs": [],
   "source": [
    "# from nbdev.export import nb_export\n",
    "\n",
    "# nb_export(\"log.ipynb\", \"utils_f/\")"
   ]
  }
 ],
 "metadata": {
  "kernelspec": {
   "display_name": "venv_cvsion",
   "language": "python",
   "name": "venv_cvsion"
  },
  "language_info": {
   "codemirror_mode": {
    "name": "ipython",
    "version": 3
   },
   "file_extension": ".py",
   "mimetype": "text/x-python",
   "name": "python",
   "nbconvert_exporter": "python",
   "pygments_lexer": "ipython3",
   "version": "3.9.1"
  }
 },
 "nbformat": 4,
 "nbformat_minor": 5
}
