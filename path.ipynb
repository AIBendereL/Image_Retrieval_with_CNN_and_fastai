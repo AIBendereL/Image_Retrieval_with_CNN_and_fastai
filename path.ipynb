{
 "cells": [
  {
   "cell_type": "code",
   "execution_count": 6,
   "id": "e893e3a6-edc2-4a53-9d70-0dc6be2a67b6",
   "metadata": {},
   "outputs": [],
   "source": [
    "#|default_exp path"
   ]
  },
  {
   "cell_type": "code",
   "execution_count": 7,
   "id": "73d266f5-c91f-4783-b488-6084e7ea139b",
   "metadata": {},
   "outputs": [],
   "source": [
    "#|export\n",
    "\n",
    "from pathlib import Path"
   ]
  },
  {
   "cell_type": "markdown",
   "id": "bd69a76d-d1fc-4bb7-a44f-9342c6ac7607",
   "metadata": {},
   "source": [
    "# All"
   ]
  },
  {
   "cell_type": "code",
   "execution_count": 8,
   "id": "837793b1-1294-49a9-ba2e-20c0bbc0275e",
   "metadata": {},
   "outputs": [],
   "source": [
    "__all__ = [\"get_features_paths\", \"get_learner_path\"]"
   ]
  },
  {
   "cell_type": "markdown",
   "id": "3475ec36-1fd9-4e66-b57c-88086e97e2c8",
   "metadata": {},
   "source": [
    "# Module"
   ]
  },
  {
   "cell_type": "code",
   "execution_count": 9,
   "id": "1deb668c-8b65-48ae-ba07-a4629d33b652",
   "metadata": {},
   "outputs": [],
   "source": [
    "#|export\n",
    "\n",
    "def get_feature_paths(dts_li, model_li):\n",
    "\n",
    "    folder_path = Path(\"Feature/\")\n",
    "    dts_names = [dts.name for dts in dts_li]\n",
    "    mdl_names = [mdl.name for mdl in model_li]\n",
    "\n",
    "    paths = [folder_path/d for d in dts_names]\n",
    "    [p.mkdir() for p in paths if not p.exists()]\n",
    "\n",
    "    paths = [folder_path/d/m for d in dts_names for m in mdl_names]\n",
    "    [p.mkdir() for p in paths if not p.exists()]\n",
    "\n",
    "    fts_data_path_li = [folder_path/d/m/f\"{d}_{m}_data_fts.pt\" for d in dts_names for m in mdl_names]\n",
    "    fts_trgt_path_li = [folder_path/d/m/f\"{d}_{m}_target_fts.pt\" for d in dts_names for m in mdl_names]\n",
    "\n",
    "    return fts_data_path_li, fts_trgt_path_li\n",
    "\n",
    "def get_learner_paths(dts_li, model_li):\n",
    "\n",
    "    folder_path = Path(\"Learner/\")\n",
    "    dts_names = [dts.name for dts in dts_li]\n",
    "    mdl_names = [mdl.name for mdl in model_li]\n",
    "\n",
    "    paths = [folder_path/d for d in dts_names]\n",
    "    [p.mkdir() for p in paths if not p.exists()]\n",
    "\n",
    "    paths = [folder_path/d/m for d in dts_names for m in mdl_names]\n",
    "    [p.mkdir() for p in paths if not p.exists()]\n",
    "\n",
    "    return [folder_path/d/m/f\"{d}_{m}_learner.pkl\" for d in dts_names for m in mdl_names]\n",
    "\n",
    "def get_label_paths(dts_li, model_li):\n",
    "\n",
    "    folder_path = Path(\"Label/\")\n",
    "    dts_names = [dts.name for dts in dts_li]\n",
    "    mdl_names = [mdl.name for mdl in model_li]\n",
    "\n",
    "    paths = [folder_path/d for d in dts_names]\n",
    "    [p.mkdir() for p in paths if not p.exists()]\n",
    "\n",
    "    paths = [folder_path/d/m for d in dts_names for m in mdl_names]\n",
    "    [p.mkdir() for p in paths if not p.exists()]\n",
    "\n",
    "    lbls_data_path_li = [folder_path/d/m/f\"{d}_{m}_data_labels.pt\" for d in dts_names for m in mdl_names]\n",
    "    lbls_trgt_path_li = [folder_path/d/m/f\"{d}_{m}_target_labels.pt\" for d in dts_names for m in mdl_names]\n",
    "\n",
    "    return lbls_data_path_li, lbls_trgt_path_li"
   ]
  },
  {
   "cell_type": "markdown",
   "id": "bce2d7b5-64e4-4c2b-9067-6c89f295ca20",
   "metadata": {},
   "source": [
    "# Export"
   ]
  },
  {
   "cell_type": "code",
   "execution_count": 10,
   "id": "fd3930c3-08c9-4724-9ee4-31f19f9b239c",
   "metadata": {},
   "outputs": [],
   "source": [
    "# from nbdev.export import nb_export\n",
    "\n",
    "# nb_export(\"path.ipynb\", \"utils_f/\")"
   ]
  }
 ],
 "metadata": {
  "kernelspec": {
   "display_name": "venv_cvsion",
   "language": "python",
   "name": "venv_cvsion"
  },
  "language_info": {
   "codemirror_mode": {
    "name": "ipython",
    "version": 3
   },
   "file_extension": ".py",
   "mimetype": "text/x-python",
   "name": "python",
   "nbconvert_exporter": "python",
   "pygments_lexer": "ipython3",
   "version": "3.9.1"
  }
 },
 "nbformat": 4,
 "nbformat_minor": 5
}
