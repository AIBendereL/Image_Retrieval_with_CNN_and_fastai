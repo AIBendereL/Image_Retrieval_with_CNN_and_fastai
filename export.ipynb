{
 "cells": [
  {
   "cell_type": "code",
   "execution_count": 9,
   "id": "52299f9e-0180-4e91-b52f-d346852e83f0",
   "metadata": {},
   "outputs": [],
   "source": [
    "#|default_exp export"
   ]
  },
  {
   "cell_type": "code",
   "execution_count": 10,
   "id": "8bb2b906-036c-4fed-a298-152bfbe6b06a",
   "metadata": {},
   "outputs": [],
   "source": [
    "#|export\n",
    "\n",
    "import torch\n",
    "from pathlib import Path"
   ]
  },
  {
   "cell_type": "code",
   "execution_count": 11,
   "id": "d8a19611-507b-4e0b-a229-cdc3b207562d",
   "metadata": {},
   "outputs": [],
   "source": [
    "__all__ = [\"export_features\", \"export_labels\", \"save_models\"]"
   ]
  },
  {
   "cell_type": "markdown",
   "id": "ad5bffff-32ae-4bb9-aae3-70a4cd0e2296",
   "metadata": {},
   "source": [
    "# Module"
   ]
  },
  {
   "cell_type": "code",
   "execution_count": 12,
   "id": "90a048d5-9322-4d93-9857-d6f2cafa5f06",
   "metadata": {},
   "outputs": [],
   "source": [
    "#|export\n",
    "\n",
    "def export_features(fts_data_li, fts_trgt_li, fts_data_path_li, fts_trgt_path_li):\n",
    "\n",
    "    [torch.save(fts, path) for fts, path in zip(fts_data_li, fts_data_path_li)]\n",
    "    [torch.save(fts, path) for fts, path in zip(fts_trgt_li, fts_trgt_path_li)]\n",
    "\n",
    "def export_labels(lbls_data_li, lbls_trgt_li, lbls_data_path_li, lbls_trgt_path_li):\n",
    "\n",
    "    [torch.save(lbls, path) for lbls, path in zip(lbls_data_li, lbls_data_path_li)]\n",
    "    [torch.save(lbls, path) for lbls, path in zip(lbls_trgt_li, lbls_trgt_path_li)]\n",
    "\n",
    "def save_models(model_li):\n",
    "\n",
    "    folder_path = Path(\"Model/\")\n",
    "    [torch.save(mdl.state_dict(), folder_path/f\"{mdl.name}.pt\") for mdl in model_li]"
   ]
  },
  {
   "cell_type": "markdown",
   "id": "23f54beb-08cc-4560-b42a-6d1feae642bc",
   "metadata": {},
   "source": [
    "# Export"
   ]
  },
  {
   "cell_type": "code",
   "execution_count": 13,
   "id": "0eb5bcd2-2476-4f70-a76f-b6945f815049",
   "metadata": {},
   "outputs": [],
   "source": [
    "from nbdev.export import nb_export\n",
    "\n",
    "nb_export(\"export.ipynb\", \"utils_f/\")"
   ]
  }
 ],
 "metadata": {
  "kernelspec": {
   "display_name": "venv_cvsion",
   "language": "python",
   "name": "venv_cvsion"
  },
  "language_info": {
   "codemirror_mode": {
    "name": "ipython",
    "version": 3
   },
   "file_extension": ".py",
   "mimetype": "text/x-python",
   "name": "python",
   "nbconvert_exporter": "python",
   "pygments_lexer": "ipython3",
   "version": "3.9.1"
  }
 },
 "nbformat": 4,
 "nbformat_minor": 5
}
