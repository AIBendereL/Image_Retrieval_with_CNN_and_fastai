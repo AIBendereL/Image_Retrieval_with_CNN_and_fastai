{
 "cells": [
  {
   "cell_type": "code",
   "execution_count": 1,
   "id": "38fe0958",
   "metadata": {},
   "outputs": [],
   "source": [
    "#|default_exp model_custom"
   ]
  },
  {
   "cell_type": "code",
   "execution_count": 1,
   "id": "3a6b5c1d",
   "metadata": {},
   "outputs": [],
   "source": [
    "#|export\n",
    "\n",
    "import os\n",
    "import torch\n",
    "from torch import nn\n",
    "from pathlib import Path\n",
    "\n",
    "import timm"
   ]
  },
  {
   "cell_type": "markdown",
   "id": "18bad6cb-dc07-4bb1-afad-7bd44374185f",
   "metadata": {},
   "source": [
    "# Environment"
   ]
  },
  {
   "cell_type": "code",
   "execution_count": 2,
   "id": "ddd09b35-9dcd-42ce-a56c-9de54863bbc6",
   "metadata": {},
   "outputs": [],
   "source": [
    "#|export\n",
    "\n",
    "os.environ[\"TORCH_HOME\"] = \"Model/\"\n",
    "os.environ[\"FASTAI_HOME\"] = \"Data/\""
   ]
  },
  {
   "cell_type": "markdown",
   "id": "e4c4029a",
   "metadata": {},
   "source": [
    "# All"
   ]
  },
  {
   "cell_type": "code",
   "execution_count": 4,
   "id": "462b7b2b",
   "metadata": {},
   "outputs": [],
   "source": [
    "__all__ = [\"ConvnextLarge\", \"ConvnextSmall\", \"Resnet152\", \"Efficientnetv2RwT\", \"EfficientnetB3\",\n",
    "           \"Resnet26d\", \"Vgg16\"]"
   ]
  },
  {
   "cell_type": "markdown",
   "id": "f962d70c",
   "metadata": {},
   "source": [
    "# Module"
   ]
  },
  {
   "cell_type": "code",
   "execution_count": 5,
   "id": "0dde157e-b18f-4b20-a0dc-e5c567c78bf2",
   "metadata": {},
   "outputs": [],
   "source": [
    "#|export\n",
    "\n",
    "# accuracy-decreasing order\n",
    "\n",
    "class ConvnextLarge(nn.Module):\n",
    "\n",
    "    # accuracy: 87.026\n",
    "    # fts shape: (B, 1536)\n",
    "    \n",
    "    def __init__(self, pretrained= True):\n",
    "\n",
    "        super(ConvnextLarge, self).__init__()\n",
    "\n",
    "        self.name = \"convnext_large\"\n",
    "        model = timm.create_model(self.name, pretrained= pretrained)\n",
    "\n",
    "        self.model = model\n",
    "\n",
    "        self.model.head.drop = nn.Identity()\n",
    "        self.model.head.fc = nn.Identity()\n",
    "\n",
    "    def forward(self, x): return self.model(x)\n",
    "\n",
    "\n",
    "class ConvnextSmall(nn.Module):\n",
    "\n",
    "    # accuracy: 85.33\n",
    "    # fts shape: (B, 768)\n",
    "\n",
    "    def __init__(self, pretrained= True):\n",
    "\n",
    "        super(ConvnextSmall, self).__init__()\n",
    "\n",
    "        self.name = \"convnext_small\"\n",
    "        model = timm.create_model(\"convnext_small\", pretrained= pretrained)\n",
    "\n",
    "        self.model = model\n",
    "\n",
    "        self.model.head.drop = nn.Identity()\n",
    "        self.model.head.fc = nn.Identity()\n",
    "\n",
    "    def forward(self, x): return self.model(x)\n",
    "\n",
    "\n",
    "class Resnet152(nn.Module):\n",
    "\n",
    "    # accuracy: 82.732\n",
    "    # fts shape: (B, 2048)\n",
    "\n",
    "    def __init__(self, pretrained= True):\n",
    "\n",
    "        super(Resnet152, self).__init__()\n",
    "\n",
    "        self.name = \"resnet152\"\n",
    "        model = timm.create_model(self.name, pretrained= pretrained)\n",
    "\n",
    "        self.model = model\n",
    "\n",
    "        self.model.fc = nn.Identity()\n",
    "\n",
    "    def forward(self, x): return self.model(x)\n",
    "\n",
    "\n",
    "class Efficientnetv2RwT(nn.Module):\n",
    "\n",
    "    # accuracy: 82.35\n",
    "    # fts shape: (B, 1024)\n",
    "\n",
    "    def __init__(self, pretrained= True):\n",
    "\n",
    "        super(Efficientnetv2RwT, self).__init__()\n",
    "\n",
    "        self.name = \"efficientnetv2_rw_t\"\n",
    "        model = timm.create_model(self.name, pretrained= pretrained)\n",
    "\n",
    "        self.model = model\n",
    "\n",
    "        self.model.classifier = nn.Identity()\n",
    "        \n",
    "    def forward(self, x): return self.model(x)\n",
    "\n",
    "\n",
    "class EfficientnetB3(nn.Module):\n",
    "\n",
    "    # accuracy: 82.242\n",
    "    # fts shape: (B, 1536)\n",
    "\n",
    "    def __init__(self, pretrained= True):\n",
    "\n",
    "        super(EfficientnetB3, self).__init__()\n",
    "\n",
    "        self.name = \"efficientnet_b3\"\n",
    "        model = timm.create_model(self.name, pretrained= pretrained)\n",
    "\n",
    "        self.model = model\n",
    "\n",
    "        self.model.classifier = nn.Identity()\n",
    "\n",
    "    def forward(self, x): return self.model(x)\n",
    "\n",
    "\n",
    "class Resnet26d(nn.Module):\n",
    "\n",
    "    # accuracy: 77.408\n",
    "    # fts shape: (B, 2048)\n",
    "\n",
    "    def __init__(self, pretrained= True):\n",
    "\n",
    "        super(Resnet26d, self).__init__()\n",
    "\n",
    "        self.name = \"resnet26d\"\n",
    "        model = timm.create_model(self.name, pretrained= pretrained)\n",
    "        \n",
    "        self.model = model\n",
    "        \n",
    "        self.model.fc = nn.Identity()\n",
    "\n",
    "    def forward(self, x): return self.model(x)\n",
    "\n",
    "\n",
    "class Vgg16(nn.Module):\n",
    "\n",
    "    # accuracy: 71.592\n",
    "    # fts shape: (B, 4096)\n",
    "    \n",
    "    def __init__(self, pretrained= True):\n",
    "        \n",
    "        super(Vgg16, self).__init__()\n",
    "        \n",
    "        self.name = \"vgg16\"\n",
    "        model = timm.create_model(self.name, pretrained= pretrained)\n",
    "\n",
    "        self.model = model\n",
    "\n",
    "        self.model.pre_logits.act2 = nn.Flatten()\n",
    "        self.model.head = nn.Identity()\n",
    "\n",
    "    def forward(self, x): return self.model(x)"
   ]
  },
  {
   "cell_type": "markdown",
   "id": "6f032a09",
   "metadata": {},
   "source": [
    "# Export"
   ]
  },
  {
   "cell_type": "code",
   "execution_count": 7,
   "id": "cd4ad807",
   "metadata": {},
   "outputs": [],
   "source": [
    "# from nbdev.export import nb_export\n",
    "\n",
    "# nb_export(\"model_custom.ipynb\", \"utils_f/model/\")"
   ]
  }
 ],
 "metadata": {
  "kernelspec": {
   "display_name": "venv_cvsion",
   "language": "python",
   "name": "venv_cvsion"
  },
  "language_info": {
   "codemirror_mode": {
    "name": "ipython",
    "version": 3
   },
   "file_extension": ".py",
   "mimetype": "text/x-python",
   "name": "python",
   "nbconvert_exporter": "python",
   "pygments_lexer": "ipython3",
   "version": "3.9.1"
  }
 },
 "nbformat": 4,
 "nbformat_minor": 5
}
